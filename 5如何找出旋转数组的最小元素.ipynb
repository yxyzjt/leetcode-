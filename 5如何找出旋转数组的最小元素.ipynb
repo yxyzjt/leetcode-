{
 "cells": [
  {
   "cell_type": "markdown",
   "metadata": {},
   "source": [
    "旋转：将一个有序数组最开始的若干个元素搬到数组的尾部，称为数组的旋转。    \n",
    "要求：输入一个排好序的数组的一个旋转，输出旋转数组的最小元素。     \n",
    "例如数组[3,4,5,1,2]是[1,2,3,4,5]的一个旋转，该数组的最小元素是1。"
   ]
  },
  {
   "cell_type": "markdown",
   "metadata": {},
   "source": [
    "在数学没有溢出的前提下，对于正数和负数：<br>\n",
    "左移一位相当于乘以2的1次方。左移n位，就相当于乘以2的n次方。<br>\n",
    "右移一位相当于除以2，右移n位相当于除以2的n次方，这里取的是商，不要余数。"
   ]
  },
  {
   "cell_type": "code",
   "execution_count": null,
   "metadata": {
    "collapsed": true
   },
   "outputs": [],
   "source": [
    "对于[1,2,3,4,5,6,7],low=0,high=6,mid=(low+high)/2,其可能的旋转数组：<br>\n",
    "[3,4,5,6,7,1,2],arr[mid]>arr[low],则最小值在mid的右边 <br>\n",
    "[6,7,1,2,3,4,5],arr[mid]<arr[high],则最小值在mid的左边 <br>\n",
    "[4,5,6,7,1,2,3],arr[mid]>arr[mid+1],则最小值是arr[mid+1] <br>\n",
    "[5,6,7,1,2,3,4],arr[mid]<arr[mid-1],则最小值在是arr[mid] <br>"
   ]
  },
  {
   "cell_type": "markdown",
   "metadata": {},
   "source": [
    "还要考虑特殊情况：<br>\n",
    "1 数组本身没有经过旋转，是一个有序数组。例如[1,2,3,4,5]<br>\n",
    "2 数组中的大部分元素值都相等，例如[1,0,1,1,1]，以至于arr[low]==arr[mid]==arr[high]<br>\n",
    "针对情况1，可以这样考虑：若数组经过旋转，那么必定会有arr[low]>arr[high],注意这里的high和low是旋转后的数组的下标。<br>\n",
    "那么在没有经过旋转的数组中，由arr[low]>arr[high]可以推出：low>high。所以如果满足：low>high，那么最小值就是arr[0]<br>\n",
    "针对情况2，只能在左右两边分别进行查找出最小值MinL，MinR，最后比较MinL和MinR。\n"
   ]
  },
  {
   "cell_type": "code",
   "execution_count": 34,
   "metadata": {
    "collapsed": false
   },
   "outputs": [
    {
     "name": "stdout",
     "output_type": "stream",
     "text": [
      "1\n",
      "-1\n"
     ]
    },
    {
     "ename": "TypeError",
     "evalue": "getMin() takes 1 positional argument but 3 were given",
     "output_type": "error",
     "traceback": [
      "\u001b[1;31m---------------------------------------------------------------------------\u001b[0m",
      "\u001b[1;31mTypeError\u001b[0m                                 Traceback (most recent call last)",
      "\u001b[1;32m<ipython-input-34-baaea303479a>\u001b[0m in \u001b[0;36m<module>\u001b[1;34m()\u001b[0m\n\u001b[0;32m     50\u001b[0m \u001b[1;33m\u001b[0m\u001b[0m\n\u001b[0;32m     51\u001b[0m     \u001b[0marray3\u001b[0m\u001b[1;33m=\u001b[0m\u001b[1;33m[\u001b[0m\u001b[1;36m1\u001b[0m\u001b[1;33m,\u001b[0m\u001b[1;36m0\u001b[0m\u001b[1;33m,\u001b[0m\u001b[1;36m1\u001b[0m\u001b[1;33m,\u001b[0m\u001b[1;36m1\u001b[0m\u001b[1;33m,\u001b[0m\u001b[1;36m1\u001b[0m\u001b[1;33m]\u001b[0m\u001b[1;33m\u001b[0m\u001b[0m\n\u001b[1;32m---> 52\u001b[1;33m     \u001b[0mmins\u001b[0m\u001b[1;33m=\u001b[0m\u001b[0mgetMin\u001b[0m\u001b[1;33m(\u001b[0m\u001b[0marray3\u001b[0m\u001b[1;33m)\u001b[0m\u001b[1;33m\u001b[0m\u001b[0m\n\u001b[0m\u001b[0;32m     53\u001b[0m     \u001b[0mprint\u001b[0m\u001b[1;33m(\u001b[0m\u001b[0mmins\u001b[0m\u001b[1;33m)\u001b[0m\u001b[1;33m\u001b[0m\u001b[0m\n",
      "\u001b[1;32m<ipython-input-34-baaea303479a>\u001b[0m in \u001b[0;36mgetMin\u001b[1;34m(arr)\u001b[0m\n\u001b[0;32m     38\u001b[0m         \u001b[0mlow\u001b[0m\u001b[1;33m=\u001b[0m\u001b[1;36m0\u001b[0m\u001b[1;33m\u001b[0m\u001b[0m\n\u001b[0;32m     39\u001b[0m         \u001b[0mhigh\u001b[0m\u001b[1;33m=\u001b[0m\u001b[0mlen\u001b[0m\u001b[1;33m(\u001b[0m\u001b[0marr\u001b[0m\u001b[1;33m)\u001b[0m\u001b[1;33m-\u001b[0m\u001b[1;36m1\u001b[0m\u001b[1;33m\u001b[0m\u001b[0m\n\u001b[1;32m---> 40\u001b[1;33m         \u001b[1;32mreturn\u001b[0m \u001b[0mgetMin_1\u001b[0m\u001b[1;33m(\u001b[0m\u001b[0marr\u001b[0m\u001b[1;33m,\u001b[0m\u001b[0mlow\u001b[0m\u001b[1;33m,\u001b[0m\u001b[0mhigh\u001b[0m\u001b[1;33m)\u001b[0m\u001b[1;33m\u001b[0m\u001b[0m\n\u001b[0m\u001b[0;32m     41\u001b[0m \u001b[1;33m\u001b[0m\u001b[0m\n\u001b[0;32m     42\u001b[0m \u001b[1;32mif\u001b[0m \u001b[0m__name__\u001b[0m\u001b[1;33m==\u001b[0m\u001b[1;34m'__main__'\u001b[0m\u001b[1;33m:\u001b[0m\u001b[1;33m\u001b[0m\u001b[0m\n",
      "\u001b[1;32m<ipython-input-34-baaea303479a>\u001b[0m in \u001b[0;36mgetMin_1\u001b[1;34m(arr, low, high)\u001b[0m\n\u001b[0;32m     29\u001b[0m \u001b[1;33m\u001b[0m\u001b[0m\n\u001b[0;32m     30\u001b[0m     \u001b[1;32melse\u001b[0m\u001b[1;33m:\u001b[0m\u001b[1;33m\u001b[0m\u001b[0m\n\u001b[1;32m---> 31\u001b[1;33m         \u001b[1;32mreturn\u001b[0m \u001b[0mmin\u001b[0m\u001b[1;33m(\u001b[0m\u001b[0mgetMin\u001b[0m\u001b[1;33m(\u001b[0m\u001b[0marr\u001b[0m\u001b[1;33m,\u001b[0m\u001b[0mlow\u001b[0m\u001b[1;33m,\u001b[0m\u001b[0mmid\u001b[0m\u001b[1;33m-\u001b[0m\u001b[1;36m1\u001b[0m\u001b[1;33m)\u001b[0m\u001b[1;33m,\u001b[0m\u001b[0mgetMin\u001b[0m\u001b[1;33m(\u001b[0m\u001b[0marr\u001b[0m\u001b[1;33m,\u001b[0m\u001b[0mmid\u001b[0m\u001b[1;33m+\u001b[0m\u001b[1;36m1\u001b[0m\u001b[1;33m,\u001b[0m\u001b[0mhigh\u001b[0m\u001b[1;33m)\u001b[0m\u001b[1;33m)\u001b[0m\u001b[1;33m\u001b[0m\u001b[0m\n\u001b[0m\u001b[0;32m     32\u001b[0m \u001b[1;33m\u001b[0m\u001b[0m\n\u001b[0;32m     33\u001b[0m \u001b[1;32mdef\u001b[0m \u001b[0mgetMin\u001b[0m\u001b[1;33m(\u001b[0m\u001b[0marr\u001b[0m\u001b[1;33m)\u001b[0m\u001b[1;33m:\u001b[0m\u001b[1;33m\u001b[0m\u001b[0m\n",
      "\u001b[1;31mTypeError\u001b[0m: getMin() takes 1 positional argument but 3 were given"
     ]
    }
   ],
   "source": [
    "def getMin_1(arr,low,high):\n",
    "    \n",
    "    #数组没有经过旋转，则第一个元素就是最小值\n",
    "    if arr[0]<arr[len(arr)-1]:\n",
    "        return arr[0]\n",
    "    \n",
    "    #数组中只有一个元素\n",
    "    if low==high:\n",
    "        return arr[low]\n",
    "    \n",
    "    #mid=(low+high)/2，采用下面的写法可以防止溢出\n",
    "    mid=low+((high-low)>>1)\n",
    "    \n",
    "    #判断arr[mid]是否是最小值\n",
    "    if arr[mid]<arr[mid-1]:\n",
    "        return arr[mid]\n",
    "    \n",
    "    #判断arr[mid+1]是否是最小值\n",
    "    if arr[mid+1]<arr[mid]:\n",
    "        return arr[mid+1]\n",
    "    \n",
    "    #判断最小值是否在mid的左边\n",
    "    if arr[mid]<arr[high]:\n",
    "        return getMin(arr,low,mid-1)\n",
    "    \n",
    "    #判断最小值是否在mid的右边\n",
    "    if arr[mid]>arr[low]:\n",
    "        return getMin(arr,mid+1,high)\n",
    "    \n",
    "    else:\n",
    "        return min(getMin(arr,low,mid-1),getMin(arr,mid+1,high))\n",
    "    \n",
    "def getMin(arr):\n",
    "    if arr==None:\n",
    "        print('参数不合法')\n",
    "        return\n",
    "    else:\n",
    "        low=0\n",
    "        high=len(arr)-1\n",
    "        return getMin_1(arr,low,high)\n",
    "    \n",
    "if __name__=='__main__':\n",
    "    array1=[1,2,3,4]\n",
    "    mins=getMin(array1)\n",
    "    print(mins)\n",
    "    \n",
    "    array2=[4,5,6,-1,0,1,2,3]\n",
    "    mins=getMin(array2)\n",
    "    print(mins)\n",
    "    \n",
    "    array3=[1,0,1,1,1]\n",
    "    mins=getMin(array3)\n",
    "    print(mins)"
   ]
  },
  {
   "cell_type": "code",
   "execution_count": 19,
   "metadata": {
    "collapsed": false
   },
   "outputs": [
    {
     "ename": "TypeError",
     "evalue": "list indices must be integers or slices, not float",
     "output_type": "error",
     "traceback": [
      "\u001b[1;31m---------------------------------------------------------------------------\u001b[0m",
      "\u001b[1;31mTypeError\u001b[0m                                 Traceback (most recent call last)",
      "\u001b[1;32m<ipython-input-19-c2c0d081cd96>\u001b[0m in \u001b[0;36m<module>\u001b[1;34m()\u001b[0m\n\u001b[0;32m     54\u001b[0m \u001b[1;33m\u001b[0m\u001b[0m\n\u001b[0;32m     55\u001b[0m \u001b[1;32mif\u001b[0m \u001b[0m__name__\u001b[0m \u001b[1;33m==\u001b[0m \u001b[1;34m'__main__'\u001b[0m\u001b[1;33m:\u001b[0m\u001b[1;33m\u001b[0m\u001b[0m\n\u001b[1;32m---> 56\u001b[1;33m     \u001b[0munitest\u001b[0m\u001b[1;33m(\u001b[0m\u001b[1;33m)\u001b[0m\u001b[1;33m\u001b[0m\u001b[0m\n\u001b[0m",
      "\u001b[1;32m<ipython-input-19-c2c0d081cd96>\u001b[0m in \u001b[0;36munitest\u001b[1;34m()\u001b[0m\n\u001b[0;32m     41\u001b[0m     \u001b[0marr4\u001b[0m \u001b[1;33m=\u001b[0m \u001b[1;33m[\u001b[0m\u001b[1;36m1\u001b[0m\u001b[1;33m,\u001b[0m \u001b[1;36m2\u001b[0m\u001b[1;33m,\u001b[0m \u001b[1;36m3\u001b[0m\u001b[1;33m,\u001b[0m \u001b[1;36m4\u001b[0m\u001b[1;33m,\u001b[0m \u001b[1;36m5\u001b[0m\u001b[1;33m]\u001b[0m\u001b[1;33m\u001b[0m\u001b[0m\n\u001b[0;32m     42\u001b[0m \u001b[1;33m\u001b[0m\u001b[0m\n\u001b[1;32m---> 43\u001b[1;33m     \u001b[0mprint\u001b[0m\u001b[1;33m(\u001b[0m\u001b[1;34m\"The minimum of the rotated array [3, 4, 5, 1, 2] is %d.\"\u001b[0m \u001b[1;33m%\u001b[0m \u001b[0mmin_in_rotated_array\u001b[0m\u001b[1;33m(\u001b[0m\u001b[0marr1\u001b[0m\u001b[1;33m,\u001b[0m \u001b[1;36m5\u001b[0m\u001b[1;33m)\u001b[0m\u001b[1;33m)\u001b[0m\u001b[1;33m;\u001b[0m\u001b[1;33m\u001b[0m\u001b[0m\n\u001b[0m\u001b[0;32m     44\u001b[0m     \u001b[0mprint\u001b[0m\u001b[1;33m(\u001b[0m\u001b[1;34m\"The minimum of the rotated array [1, 0, 1, 1, 1] is %d.\"\u001b[0m \u001b[1;33m%\u001b[0m \u001b[0mmin_in_rotated_array\u001b[0m\u001b[1;33m(\u001b[0m\u001b[0marr2\u001b[0m\u001b[1;33m,\u001b[0m \u001b[1;36m5\u001b[0m\u001b[1;33m)\u001b[0m\u001b[1;33m)\u001b[0m\u001b[1;33m;\u001b[0m\u001b[1;33m\u001b[0m\u001b[0m\n\u001b[0;32m     45\u001b[0m     \u001b[0mprint\u001b[0m\u001b[1;33m(\u001b[0m\u001b[1;34m\"The minimum of the rotated array [1, 1, 1, 0, 1] is %d.\"\u001b[0m \u001b[1;33m%\u001b[0m \u001b[0mmin_in_rotated_array\u001b[0m\u001b[1;33m(\u001b[0m\u001b[0marr3\u001b[0m\u001b[1;33m,\u001b[0m \u001b[1;36m5\u001b[0m\u001b[1;33m)\u001b[0m\u001b[1;33m)\u001b[0m\u001b[1;33m;\u001b[0m\u001b[1;33m\u001b[0m\u001b[0m\n",
      "\u001b[1;32m<ipython-input-19-c2c0d081cd96>\u001b[0m in \u001b[0;36mmin_in_rotated_array\u001b[1;34m(data, length)\u001b[0m\n\u001b[0;32m     20\u001b[0m         \u001b[0mmid\u001b[0m \u001b[1;33m=\u001b[0m \u001b[1;33m(\u001b[0m\u001b[0msta\u001b[0m \u001b[1;33m+\u001b[0m \u001b[0mend\u001b[0m\u001b[1;33m)\u001b[0m \u001b[1;33m/\u001b[0m \u001b[1;36m2\u001b[0m\u001b[1;33m\u001b[0m\u001b[0m\n\u001b[0;32m     21\u001b[0m         \u001b[1;31m# Find the minimum in order\u001b[0m\u001b[1;33m\u001b[0m\u001b[1;33m\u001b[0m\u001b[0m\n\u001b[1;32m---> 22\u001b[1;33m         \u001b[1;32mif\u001b[0m \u001b[1;33m(\u001b[0m\u001b[0mdata\u001b[0m\u001b[1;33m[\u001b[0m\u001b[0msta\u001b[0m\u001b[1;33m]\u001b[0m \u001b[1;33m==\u001b[0m \u001b[0mdata\u001b[0m\u001b[1;33m[\u001b[0m\u001b[0mmid\u001b[0m\u001b[1;33m]\u001b[0m\u001b[1;33m)\u001b[0m \u001b[1;32mand\u001b[0m \u001b[1;33m(\u001b[0m\u001b[0mdata\u001b[0m\u001b[1;33m[\u001b[0m\u001b[0mmid\u001b[0m\u001b[1;33m]\u001b[0m \u001b[1;33m==\u001b[0m \u001b[0mdata\u001b[0m\u001b[1;33m[\u001b[0m\u001b[0mend\u001b[0m\u001b[1;33m]\u001b[0m\u001b[1;33m)\u001b[0m\u001b[1;33m:\u001b[0m\u001b[1;33m\u001b[0m\u001b[0m\n\u001b[0m\u001b[0;32m     23\u001b[0m             \u001b[0mminimum\u001b[0m \u001b[1;33m=\u001b[0m \u001b[0mdata\u001b[0m\u001b[1;33m[\u001b[0m\u001b[0msta\u001b[0m\u001b[1;33m]\u001b[0m\u001b[1;33m\u001b[0m\u001b[0m\n\u001b[0;32m     24\u001b[0m             \u001b[1;32mfor\u001b[0m \u001b[0mi\u001b[0m \u001b[1;32min\u001b[0m \u001b[0mrange\u001b[0m\u001b[1;33m(\u001b[0m\u001b[0msta\u001b[0m\u001b[1;33m+\u001b[0m\u001b[1;36m1\u001b[0m\u001b[1;33m,\u001b[0m \u001b[0mend\u001b[0m\u001b[1;33m+\u001b[0m\u001b[1;36m1\u001b[0m\u001b[1;33m)\u001b[0m\u001b[1;33m:\u001b[0m\u001b[1;33m\u001b[0m\u001b[0m\n",
      "\u001b[1;31mTypeError\u001b[0m: list indices must be integers or slices, not float"
     ]
    }
   ],
   "source": [
    "class ParamError(Exception):\n",
    "    def __init__(self, value):\n",
    "        self.value = value\n",
    "    def __str__(self):\n",
    "        return repr(self.value)\n",
    "\n",
    "\n",
    "# Find the minimum in rotated array    \n",
    "def min_in_rotated_array(data, length):\n",
    "    if data is None or length <= 0:\n",
    "        raise ParamError(\"Error: input parameters exception!\")\n",
    "    # Index initialization\n",
    "    sta, mid, end = 0, 0, length-1\n",
    "    # Ensure this requisite before binary search\n",
    "    while data[sta] >= data[end]:\n",
    "        if end - sta == 1:\n",
    "            mid = end\n",
    "            break\n",
    "        # Get the middle index\n",
    "        mid = (sta + end) / 2\n",
    "        # Find the minimum in order\n",
    "        if (data[sta] == data[mid]) and (data[mid] == data[end]):\n",
    "            minimum = data[sta]\n",
    "            for i in range(sta+1, end+1):\n",
    "                if minimum > data[i]:\n",
    "                    minimum = data[i]\n",
    "            return minimum\n",
    "\n",
    "        if data[sta] <= data[mid]:\n",
    "            sta = mid\n",
    "        elif data[end] >= data[mid]:\n",
    "            end = mid\n",
    "\n",
    "    return data[mid]\n",
    "\n",
    "\n",
    "def unitest():\n",
    "    arr1 = [3, 4, 5, 1, 2]\n",
    "    arr2 = [1, 0, 1, 1, 1]\n",
    "    arr3 = [1, 1, 1, 0, 1]\n",
    "    arr4 = [1, 2, 3, 4, 5]\n",
    "\n",
    "    print(\"The minimum of the rotated array [3, 4, 5, 1, 2] is %d.\" % min_in_rotated_array(arr1, 5));\n",
    "    print(\"The minimum of the rotated array [1, 0, 1, 1, 1] is %d.\" % min_in_rotated_array(arr2, 5));\n",
    "    print(\"The minimum of the rotated array [1, 1, 1, 0, 1] is %d.\" % min_in_rotated_array(arr3, 5));\n",
    "    print(\"The minimum of the rotated array [1, 2, 3, 4, 5] is %d.\" % min_in_rotated_array(arr4, 5));\n",
    "\n",
    "    try:\n",
    "        min_in_rotated_array(arr1, -2)\n",
    "    except (Exception,e):\n",
    "        print (\"\\nFunction call: min_in_rotated_array(arr1, -2)\")\n",
    "        print (e)\n",
    "\n",
    "\n",
    "if __name__ == '__main__':\n",
    "    unitest()"
   ]
  },
  {
   "cell_type": "code",
   "execution_count": null,
   "metadata": {
    "collapsed": true
   },
   "outputs": [],
   "source": []
  }
 ],
 "metadata": {
  "kernelspec": {
   "display_name": "Python 3",
   "language": "python",
   "name": "python3"
  },
  "language_info": {
   "codemirror_mode": {
    "name": "ipython",
    "version": 3
   },
   "file_extension": ".py",
   "mimetype": "text/x-python",
   "name": "python",
   "nbconvert_exporter": "python",
   "pygments_lexer": "ipython3",
   "version": "3.5.5"
  }
 },
 "nbformat": 4,
 "nbformat_minor": 0
}
