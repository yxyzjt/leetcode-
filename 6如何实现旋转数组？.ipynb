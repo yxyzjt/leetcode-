{
 "cells": [
  {
   "cell_type": "markdown",
   "metadata": {},
   "source": [
    "思路：先把两个子数组的内容交换，然后把整个数组的内容交换，即可得到问题的解"
   ]
  },
  {
   "cell_type": "code",
   "execution_count": 14,
   "metadata": {
    "collapsed": false
   },
   "outputs": [
    {
     "name": "stdout",
     "output_type": "stream",
     "text": [
      "5,1,2,3,4,"
     ]
    }
   ],
   "source": [
    "def swap(arr,low,high):\n",
    "    #交换数组从low到high的内容\n",
    "    while low<high:\n",
    "        temp=arr[low]\n",
    "        arr[low]=arr[high]\n",
    "        arr[high]=temp\n",
    "        low+=1\n",
    "        high-=1\n",
    "\n",
    "def rotateArr(arr,div):#div是切开的位置的下标\n",
    "    if arr==None or div<0 or div>=len(arr):\n",
    "        print('None')\n",
    "       \n",
    "    if div==0 or div==len(arr)-1:\n",
    "        print('不需要旋转')\n",
    "        \n",
    "    else:\n",
    "        swap(arr,0,div)\n",
    "        swap(arr,div+1,len(arr)-1)\n",
    "        swap(arr,0,len(arr)-1)\n",
    "        \n",
    "if __name__=='__main__':\n",
    "    arr=[1,2,3,4,5]\n",
    "    div=3\n",
    "    rotateArr(arr,div)\n",
    "    i=0\n",
    "    while i<len(arr):\n",
    "        print (arr[i],end=',')\n",
    "        i+=1\n",
    "        "
   ]
  }
 ],
 "metadata": {
  "kernelspec": {
   "display_name": "Python 3",
   "language": "python",
   "name": "python3"
  },
  "language_info": {
   "codemirror_mode": {
    "name": "ipython",
    "version": 3
   },
   "file_extension": ".py",
   "mimetype": "text/x-python",
   "name": "python",
   "nbconvert_exporter": "python",
   "pygments_lexer": "ipython3",
   "version": "3.5.5"
  }
 },
 "nbformat": 4,
 "nbformat_minor": 0
}
