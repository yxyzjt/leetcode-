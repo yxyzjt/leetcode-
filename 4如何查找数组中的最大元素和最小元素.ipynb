{
 "cells": [
  {
   "cell_type": "markdown",
   "metadata": {},
   "source": [
    "给定数组，要求查找出数组中的最大值和最小值。数组中元素不重复"
   ]
  },
  {
   "cell_type": "markdown",
   "metadata": {},
   "source": [
    "采用分治法。将数据两两分组，组内进行比较，把小的放左边，大的放右边。<br>\n",
    "然后在从左边的元素中查找最小的，右边元素中查找最大的"
   ]
  },
  {
   "cell_type": "code",
   "execution_count": 6,
   "metadata": {
    "collapsed": false
   },
   "outputs": [
    {
     "name": "stdout",
     "output_type": "stream",
     "text": [
      "max=34\n",
      "min=-2\n"
     ]
    }
   ],
   "source": [
    "class solution:\n",
    "    def getMax(self):\n",
    "        return self.max\n",
    "    def getMin(self):\n",
    "        return self.min\n",
    "    def getMaxMin(self,array):\n",
    "        if array==None:\n",
    "            print('参数不合法')\n",
    "        lens=len(array)\n",
    "        self.min=array[0]\n",
    "        self.max=array[0]\n",
    "        \n",
    "        \n",
    "        #两两分组，大的放右边，小的放左边\n",
    "        i=0\n",
    "        while i<lens-1:\n",
    "            if array[i]>array[i+1]:\n",
    "                temp=array[i]\n",
    "                array[i]=array[i+1]\n",
    "                array[i+1]=temp\n",
    "            i+=2\n",
    "            \n",
    "        #在各个分组的左边寻找最小元素\n",
    "        self.min=array[0]\n",
    "        i=2\n",
    "        while i<lens-1:\n",
    "            if array[i]<self.min:\n",
    "                self.min=array[i]\n",
    "            i+=2\n",
    "            \n",
    "        #在各个分组的右边寻找最大元素\n",
    "        self.max=array[1]\n",
    "        j=3\n",
    "        while j<lens:\n",
    "            if array[j]>self.max:\n",
    "                self.max=array[j]\n",
    "            j+=2\n",
    "            \n",
    "        #处理最后一个元素\n",
    "        if lens%2==1:\n",
    "            if self.max<array[lens-1]:\n",
    "                self.max=array[lens-1]\n",
    "            if self.min>array[lens-1]:\n",
    "                self.min=array[lens-1]\n",
    "                \n",
    "if __name__=='__main__':\n",
    "    answer=solution()\n",
    "    array=[1,2,34,0,-2]\n",
    "    answer.getMaxMin(array)\n",
    "    print('max='+str(answer.getMax()))\n",
    "    print('min='+str(answer.getMin()))"
   ]
  },
  {
   "cell_type": "code",
   "execution_count": null,
   "metadata": {
    "collapsed": true
   },
   "outputs": [],
   "source": []
  },
  {
   "cell_type": "code",
   "execution_count": null,
   "metadata": {
    "collapsed": true
   },
   "outputs": [],
   "source": []
  }
 ],
 "metadata": {
  "kernelspec": {
   "display_name": "Python 3",
   "language": "python",
   "name": "python3"
  },
  "language_info": {
   "codemirror_mode": {
    "name": "ipython",
    "version": 3
   },
   "file_extension": ".py",
   "mimetype": "text/x-python",
   "name": "python",
   "nbconvert_exporter": "python",
   "pygments_lexer": "ipython3",
   "version": "3.5.5"
  }
 },
 "nbformat": 4,
 "nbformat_minor": 0
}
