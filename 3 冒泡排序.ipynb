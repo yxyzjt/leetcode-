{
 "cells": [
  {
   "cell_type": "markdown",
   "metadata": {},
   "source": [
    "冒泡排序：    \n",
    "1 比较相邻的元素，如果第一个元素比第二个元素大，则交换它们的位置；\n",
    "2 对每一对相邻的元素进行同样的操作，从开始第一对到结尾的最后一对。结束后，最后一个元素就是最大值。\n",
    "3 针对所有的元素重复以上的步骤，除了最后一个。"
   ]
  },
  {
   "cell_type": "markdown",
   "metadata": {},
   "source": [
    "冒泡排序（BubbleSort）的基本概念是：依次比较相邻的两个数，将小数放在前面，大数放在后面。即在第一趟：首先比较第1个和第2个数，将小数放前，大数放后。然后比较第2个数和第3个数，将小数放前，大数放后，如此继续，直至比较最后两个数，将小数放前，大数放后。"
   ]
  },
  {
   "cell_type": "markdown",
   "metadata": {},
   "source": [
    "至此第一趟结束，将最大的数放到了最后。在第二趟：仍从第一对数开始比较（因为可能由于第2个数和第3个数的交换，使得第1个数不再小于第2个数），将小数放前，大数放后，一直比较到倒数第二个数（倒数第一的位置上已经是最大的），第二趟结束，在倒数第二的位置上得到一个新的最大数（其实在整个数列中是第二大的数）。如此下去，重复以上过程，直至最终完成排序。\n",
    "\n",
    "由于在排序过程中总是小数往前放，大数往后放，相当于气泡往上升，所以称作冒泡排序。"
   ]
  },
  {
   "cell_type": "code",
   "execution_count": 4,
   "metadata": {
    "collapsed": false
   },
   "outputs": [
    {
     "name": "stdout",
     "output_type": "stream",
     "text": [
      "[1, 2, 3, 4, 5, 20]\n"
     ]
    }
   ],
   "source": [
    "def bubble_sort(array):\n",
    "    lens=len(array)\n",
    "    for i in range(0,lens):\n",
    "        for j in range(0,lens-i-1):\n",
    "            if array[j]>array[j+1]:\n",
    "                array[j],array[j+1]=array[j+1],array[j]\n",
    "    return array\n",
    "\n",
    "if __name__=='__main__':\n",
    "    array=[4,3,2,5,20,1]\n",
    "    print(bubble_sort(array))"
   ]
  },
  {
   "cell_type": "code",
   "execution_count": null,
   "metadata": {
    "collapsed": true
   },
   "outputs": [],
   "source": [
    "针对[4,3,2,5,20,1]，用冒泡排序：lens=6,\n",
    "一 [3,2,4,5,1,20],第一轮遍历，j从0到5.i=0,j=lens-i-1\n",
    "二 [2,3,4,1,5,20],第二轮遍历，j从0到4.i=1,j=lens-i-1\n",
    "三 [2,3,1,4,5,20],第三轮遍历，j从0到3.i=2,j=lens-i-1\n",
    "四 [2,1,3,4,5,20],第四轮遍历，j从0到3.i=3,j=lens-i-1\n",
    "五 [1,2,3,4,5,20],第五轮遍历，j从0到1.i=4,j=lens-i-1"
   ]
  },
  {
   "cell_type": "code",
   "execution_count": null,
   "metadata": {
    "collapsed": true
   },
   "outputs": [],
   "source": []
  },
  {
   "cell_type": "code",
   "execution_count": null,
   "metadata": {
    "collapsed": true
   },
   "outputs": [],
   "source": []
  },
  {
   "cell_type": "code",
   "execution_count": null,
   "metadata": {
    "collapsed": true
   },
   "outputs": [],
   "source": []
  },
  {
   "cell_type": "code",
   "execution_count": null,
   "metadata": {
    "collapsed": true
   },
   "outputs": [],
   "source": []
  },
  {
   "cell_type": "code",
   "execution_count": null,
   "metadata": {
    "collapsed": true
   },
   "outputs": [],
   "source": []
  },
  {
   "cell_type": "code",
   "execution_count": null,
   "metadata": {
    "collapsed": true
   },
   "outputs": [],
   "source": []
  },
  {
   "cell_type": "code",
   "execution_count": null,
   "metadata": {
    "collapsed": true
   },
   "outputs": [],
   "source": []
  }
 ],
 "metadata": {
  "kernelspec": {
   "display_name": "Python 3",
   "language": "python",
   "name": "python3"
  },
  "language_info": {
   "codemirror_mode": {
    "name": "ipython",
    "version": 3
   },
   "file_extension": ".py",
   "mimetype": "text/x-python",
   "name": "python",
   "nbconvert_exporter": "python",
   "pygments_lexer": "ipython3",
   "version": "3.5.5"
  }
 },
 "nbformat": 4,
 "nbformat_minor": 0
}
