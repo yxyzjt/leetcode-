{
 "cells": [
  {
   "cell_type": "markdown",
   "metadata": {},
   "source": [
    "在二维数组中，每一行数据都按照从小到大顺序排序（无重复），每一列也都按照从小到大的顺序排序（无重复）。\n",
    "现在给定一个数据，查找该数据是否在此二维数组中"
   ]
  },
  {
   "cell_type": "markdown",
   "metadata": {},
   "source": [
    "思路：首先选择右上角的元素入手,i=0,j=col-1;<br>\n",
    "当target<array[i][j]时，表明target在array[i][j]的左边，此时更新j-=1;<br>\n",
    "当target>array[i][j]时，表明target在array[i][j]的下边，此时更新i+=1;<br>\n",
    "当target==array[i][j]时，return True。由于只要求判断是否存在，所以return True之后，直接break即可。\n"
   ]
  },
  {
   "cell_type": "code",
   "execution_count": 35,
   "metadata": {
    "collapsed": false
   },
   "outputs": [
    {
     "name": "stdout",
     "output_type": "stream",
     "text": [
      "True\n"
     ]
    }
   ],
   "source": [
    "class solution:\n",
    "    def Find(self,array,target):\n",
    "        row=len(array)\n",
    "        col=len(array[0])\n",
    "        \n",
    "        if row>0 and col>0:\n",
    "            i=0;j=col-1\n",
    "            while i<row and j>=0:\n",
    "                if array[i][j]==target:\n",
    "                    return True\n",
    "                    break\n",
    "                elif array[i][j]<target:\n",
    "                    i+=1\n",
    "                else:\n",
    "                    j-=1\n",
    "        return False\n",
    "\n",
    "if __name__ == '__main__':\n",
    "    answer=solution()\n",
    "    array=[\n",
    "        [1,2,8,9],\n",
    "        [2,4,9,12],\n",
    "        [4,7,10,13],\n",
    "        [6,8,11,15]\n",
    "          ]\n",
    "    target=7\n",
    "    print(answer.Find(array,target))"
   ]
  },
  {
   "cell_type": "code",
   "execution_count": 17,
   "metadata": {
    "collapsed": false
   },
   "outputs": [],
   "source": [
    "class A:\n",
    "    def a(self):\n",
    "        print(\"I'm a\")\n",
    "A.a()\n",
    "#直接写的话，会遇到错误TypeError: \n",
    "#unbound method a() must be called with A instance as first argument (got nothing instead)\n",
    "#正确的方法是对类进行实例，以下写法正确"
   ]
  },
  {
   "cell_type": "code",
   "execution_count": 14,
   "metadata": {
    "collapsed": false
   },
   "outputs": [
    {
     "name": "stdout",
     "output_type": "stream",
     "text": [
      "I'm a\n"
     ]
    }
   ],
   "source": [
    "class A:\n",
    "    def a(self):\n",
    "        print(\"I'm a\")\n",
    "obj=A()\n",
    "obj.a()"
   ]
  },
  {
   "cell_type": "markdown",
   "metadata": {},
   "source": [
    "如果从左下角入手也对"
   ]
  },
  {
   "cell_type": "code",
   "execution_count": 33,
   "metadata": {
    "collapsed": false
   },
   "outputs": [
    {
     "name": "stdout",
     "output_type": "stream",
     "text": [
      "True\n"
     ]
    }
   ],
   "source": [
    "class solution:\n",
    "    def Find2(self,array,target):\n",
    "        row=len(array)\n",
    "        col=len(array[0])\n",
    "        if row>0 and col>0:\n",
    "            i=row-1;j=0\n",
    "            while i>=0 and j<col:\n",
    "                if array[i][j]==target:\n",
    "                    return True\n",
    "                elif array[i][j]<target:\n",
    "                    j+=1\n",
    "                else:\n",
    "                    i-=1\n",
    "        return False\n",
    "    \n",
    "if __name__ == '__main__':\n",
    "    answer2=solution()\n",
    "    array=[\n",
    "        [1,2,8,9],\n",
    "        [2,4,9,12],\n",
    "        [4,7,10,13],\n",
    "        [6,8,11,15]\n",
    "    ]\n",
    "    target=7\n",
    "    print(answer2.Find2(array,target))\n",
    "                    \n",
    "                "
   ]
  },
  {
   "cell_type": "code",
   "execution_count": 36,
   "metadata": {
    "collapsed": false
   },
   "outputs": [
    {
     "name": "stdout",
     "output_type": "stream",
     "text": [
      "(2, 1)\n"
     ]
    }
   ],
   "source": [
    "class solution:\n",
    "    def Find3(self,array,target):\n",
    "        row=len(array)\n",
    "        col=len(array[0])\n",
    "        \n",
    "        if row>0 and col>0:\n",
    "            i=0;j=col-1\n",
    "            while i<row and j>=0:\n",
    "                if array[i][j]==target:\n",
    "                    return i,j #返回具体的位置\n",
    "                    break\n",
    "                elif array[i][j]<target:\n",
    "                    i+=1\n",
    "                else:\n",
    "                    j-=1\n",
    "        return False\n",
    "\n",
    "if __name__ == '__main__':\n",
    "    answer3=solution()\n",
    "    array=[\n",
    "        [1,2,8,9],\n",
    "        [2,4,9,12],\n",
    "        [4,7,10,13],\n",
    "        [6,8,11,15]\n",
    "          ]\n",
    "    target=7\n",
    "    print(answer3.Find3(array,target))"
   ]
  },
  {
   "cell_type": "code",
   "execution_count": null,
   "metadata": {
    "collapsed": true
   },
   "outputs": [],
   "source": []
  },
  {
   "cell_type": "code",
   "execution_count": null,
   "metadata": {
    "collapsed": true
   },
   "outputs": [],
   "source": []
  },
  {
   "cell_type": "code",
   "execution_count": null,
   "metadata": {
    "collapsed": true
   },
   "outputs": [],
   "source": []
  },
  {
   "cell_type": "code",
   "execution_count": null,
   "metadata": {
    "collapsed": true
   },
   "outputs": [],
   "source": []
  },
  {
   "cell_type": "code",
   "execution_count": null,
   "metadata": {
    "collapsed": true
   },
   "outputs": [],
   "source": []
  },
  {
   "cell_type": "code",
   "execution_count": null,
   "metadata": {
    "collapsed": true
   },
   "outputs": [],
   "source": []
  },
  {
   "cell_type": "code",
   "execution_count": null,
   "metadata": {
    "collapsed": true
   },
   "outputs": [],
   "source": []
  },
  {
   "cell_type": "code",
   "execution_count": null,
   "metadata": {
    "collapsed": true
   },
   "outputs": [],
   "source": []
  },
  {
   "cell_type": "code",
   "execution_count": null,
   "metadata": {
    "collapsed": true
   },
   "outputs": [],
   "source": []
  }
 ],
 "metadata": {
  "kernelspec": {
   "display_name": "Python 2",
   "language": "python",
   "name": "python2"
  },
  "language_info": {
   "codemirror_mode": {
    "name": "ipython",
    "version": 2
   },
   "file_extension": ".py",
   "mimetype": "text/x-python",
   "name": "python",
   "nbconvert_exporter": "python",
   "pygments_lexer": "ipython2",
   "version": "2.7.14"
  }
 },
 "nbformat": 4,
 "nbformat_minor": 0
}
