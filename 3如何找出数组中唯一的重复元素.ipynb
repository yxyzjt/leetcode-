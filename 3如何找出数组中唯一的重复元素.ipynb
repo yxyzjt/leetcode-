{
 "cells": [
  {
   "cell_type": "markdown",
   "metadata": {},
   "source": [
    "数字1~1000放在含有1001个元素的数组中，其中只有一个元素重复，其他数字均只出现一次。设计一个算法，将重复元素找出来，\n",
    "要求每个元素只能访问一次。如果不使用辅助存储空间，能否设计一个算法实现？"
   ]
  },
  {
   "cell_type": "markdown",
   "metadata": {},
   "source": [
    "方法有很多，这里用异或的方法。先把数组中的元素全部异或，然后再与1~1000异或"
   ]
  },
  {
   "cell_type": "markdown",
   "metadata": {},
   "source": [
    "关于异或的规则：a⊕b = (¬a ∧ b) ∨ (a ∧¬b)<br>\n",
    "如果a、b两个值不相同，则异或结果为1。如果a、b两个值相同，异或结果为0。<br>\n",
    "0⊕0=0，1⊕0=1，0⊕1=1，1⊕1=0（同为0，异为1）"
   ]
  },
  {
   "cell_type": "code",
   "execution_count": null,
   "metadata": {
    "collapsed": true
   },
   "outputs": [],
   "source": []
  },
  {
   "cell_type": "code",
   "execution_count": 4,
   "metadata": {
    "collapsed": false
   },
   "outputs": [
    {
     "name": "stdout",
     "output_type": "stream",
     "text": [
      "2\n"
     ]
    }
   ],
   "source": [
    "def FindDup(array):\n",
    "    if array==None:\n",
    "        return -1\n",
    "    \n",
    "    lens=len(array)\n",
    "    result=0\n",
    "    i=0\n",
    "    while i<lens:\n",
    "        result^=array[i]\n",
    "        i+=1\n",
    "    j=1\n",
    "    while j<lens:\n",
    "        result^=j\n",
    "        j+=1\n",
    "    return result\n",
    "\n",
    "if __name__=='__main__':\n",
    "    array=[1,2,4,2,5,3]\n",
    "    print(FindDup(array))\n",
    "    \n",
    "    \n",
    "        "
   ]
  },
  {
   "cell_type": "code",
   "execution_count": null,
   "metadata": {
    "collapsed": true
   },
   "outputs": [],
   "source": []
  },
  {
   "cell_type": "code",
   "execution_count": null,
   "metadata": {
    "collapsed": true
   },
   "outputs": [],
   "source": []
  },
  {
   "cell_type": "code",
   "execution_count": 6,
   "metadata": {
    "collapsed": false
   },
   "outputs": [
    {
     "name": "stdout",
     "output_type": "stream",
     "text": [
      "2\n"
     ]
    }
   ],
   "source": [
    "#array=[1,2,2,3,4]  lens=5 \n",
    "def FindDup(array):\n",
    "    if array==None:\n",
    "        return None\n",
    "    result=0\n",
    "    i=0\n",
    "    lens=len(array)\n",
    "    while i<lens:\n",
    "        result^=array[i]\n",
    "        i+=1\n",
    "    j=1\n",
    "    while j<lens:\n",
    "        result^=j\n",
    "        j+=1\n",
    "    return result\n",
    "\n",
    "if __name__=='__main__':\n",
    "    array=[1,2,2,3,4]\n",
    "    print(FindDup(array))\n",
    "        "
   ]
  },
  {
   "cell_type": "code",
   "execution_count": null,
   "metadata": {
    "collapsed": true
   },
   "outputs": [],
   "source": []
  },
  {
   "cell_type": "code",
   "execution_count": null,
   "metadata": {
    "collapsed": true
   },
   "outputs": [],
   "source": []
  },
  {
   "cell_type": "code",
   "execution_count": null,
   "metadata": {
    "collapsed": true
   },
   "outputs": [],
   "source": []
  },
  {
   "cell_type": "code",
   "execution_count": null,
   "metadata": {
    "collapsed": true
   },
   "outputs": [],
   "source": []
  },
  {
   "cell_type": "code",
   "execution_count": null,
   "metadata": {
    "collapsed": true
   },
   "outputs": [],
   "source": []
  },
  {
   "cell_type": "code",
   "execution_count": null,
   "metadata": {
    "collapsed": true
   },
   "outputs": [],
   "source": []
  },
  {
   "cell_type": "code",
   "execution_count": null,
   "metadata": {
    "collapsed": true
   },
   "outputs": [],
   "source": []
  },
  {
   "cell_type": "code",
   "execution_count": null,
   "metadata": {
    "collapsed": true
   },
   "outputs": [],
   "source": []
  },
  {
   "cell_type": "code",
   "execution_count": null,
   "metadata": {
    "collapsed": true
   },
   "outputs": [],
   "source": []
  },
  {
   "cell_type": "code",
   "execution_count": null,
   "metadata": {
    "collapsed": true
   },
   "outputs": [],
   "source": []
  },
  {
   "cell_type": "code",
   "execution_count": null,
   "metadata": {
    "collapsed": true
   },
   "outputs": [],
   "source": []
  },
  {
   "cell_type": "code",
   "execution_count": null,
   "metadata": {
    "collapsed": true
   },
   "outputs": [],
   "source": []
  }
 ],
 "metadata": {
  "kernelspec": {
   "display_name": "Python 3",
   "language": "python",
   "name": "python3"
  },
  "language_info": {
   "codemirror_mode": {
    "name": "ipython",
    "version": 3
   },
   "file_extension": ".py",
   "mimetype": "text/x-python",
   "name": "python",
   "nbconvert_exporter": "python",
   "pygments_lexer": "ipython3",
   "version": "3.5.5"
  }
 },
 "nbformat": 4,
 "nbformat_minor": 0
}
