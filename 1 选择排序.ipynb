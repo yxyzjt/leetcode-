{
 "cells": [
  {
   "cell_type": "markdown",
   "metadata": {
    "collapsed": true
   },
   "source": [
    "一 选择排序：<br>\n",
    "对于给定的一组记录，经过第一轮比较后得到最小的元素，然后将该元素与第一个元素进行交换；   \n",
    "然后对不包括第一个元素的其他元素进行第二轮比较，得到最小的元素，然后将该元素与第二个元素进行交换；    \n",
    "重复该过程，直到进行比较的元素只有一个为止。    \n",
    "以数组[39,24,43,7,34]为例，要求为升序排列。    \n",
    "第一轮后：[7,24,43,39,34]<br>  \n",
    "第二轮后：[7,24,43,39,34]<br>\n",
    "第三轮后：[7,24,34,39,43]<br>\n",
    "第四轮后：[7,24,34,39,43]\n"
   ]
  },
  {
   "cell_type": "markdown",
   "metadata": {},
   "source": [
    "选择排序：<br>  \n",
    "1 找到数组中最小的那个元素<br>\n",
    "2 将最小的元素与第一个元素交换位置<br>\n",
    "3 在不包括第一个元素的其他元素中找到最小的元素，与第二个元素交换位置"
   ]
  },
  {
   "cell_type": "code",
   "execution_count": 3,
   "metadata": {
    "collapsed": false
   },
   "outputs": [
    {
     "name": "stdout",
     "output_type": "stream",
     "text": [
      "排序前，序列为\n",
      "3,4,2,8,9,5,1,\n",
      "排序后，序列为\n",
      "1,2,3,4,5,8,9,"
     ]
    }
   ],
   "source": [
    "def select_sort(lists):\n",
    "    count=len(lists)\n",
    "    for i in range(0,count):\n",
    "        min=i\n",
    "        for j in range(i+1,count):\n",
    "            if lists[j]<lists[min]:\n",
    "                min=j\n",
    "        lists[min],lists[i]=lists[i],lists[min]\n",
    "    return lists\n",
    "\n",
    "if __name__=='__main__':\n",
    "    lists=[3,4,2,8,9,5,1]\n",
    "    print('排序前，序列为')\n",
    "    for i in lists:\n",
    "        print(i,end=',')\n",
    "    print('\\n排序后，序列为')\n",
    "    for i in (select_sort(lists)):\n",
    "        print(i,end=',')              "
   ]
  },
  {
   "cell_type": "code",
   "execution_count": null,
   "metadata": {
    "collapsed": true
   },
   "outputs": [],
   "source": [
    "插入排序的原理：<br>\n",
    "插入时分插入位置和试探位置，元素i的初始插入位置为i，试探位置为i-1，在插入元素i时，     \n",
    "依次与i-1,i-2······元素比较，如果被试探位置的元素比插入元素大，那么被试探元素后     \n",
    "移一位，元素i插入位置前移1位，直到被试探元素小于插入元素或者插入元素位于第一位。"
   ]
  },
  {
   "cell_type": "code",
   "execution_count": 7,
   "metadata": {
    "collapsed": false
   },
   "outputs": [
    {
     "name": "stdout",
     "output_type": "stream",
     "text": [
      "[3, 4, 6, 8, 9]\n"
     ]
    }
   ],
   "source": [
    "def insertSort(a, length): \n",
    "    for i in range(1, length): \n",
    "        if a[i-1] > a[i]: \n",
    "            t = a[i]\n",
    "            j = i-1 \n",
    "            while a[j] > t and j >= 0:\n",
    "                a[j+1] = a[j] \n",
    "                a[j] = t \n",
    "                j-=1\n",
    "\n",
    "b = [8, 4, 6, 3, 9]\n",
    "insertSort(b, len(b)) \n",
    "print(b)"
   ]
  },
  {
   "cell_type": "code",
   "execution_count": 8,
   "metadata": {
    "collapsed": false
   },
   "outputs": [
    {
     "name": "stdout",
     "output_type": "stream",
     "text": [
      "排序前，序列为\n",
      "3,4,2,8,9,5,1,\n",
      "排序后，序列为\n",
      "1,2,3,4,5,8,9,"
     ]
    }
   ],
   "source": [
    "def insertSort(array):\n",
    "    for i in range(1,len(array)):\n",
    "        if array[i-1]>array[i]:\n",
    "            key=array[i]\n",
    "            j=i-1\n",
    "            while key<array[j] and j>=0:\n",
    "                array[j+1]=array[j]#比较难理解的地方在于下标，这里为何不能直接交换呢？\n",
    "                array[j]=key\n",
    "                j-=1\n",
    "    return array\n",
    "\n",
    "if __name__=='__main__':\n",
    "    lists=[3,4,2,8,9,5,1]\n",
    "    print('排序前，序列为')\n",
    "    for i in lists:\n",
    "        print(i,end=',')\n",
    "    print('\\n排序后，序列为')\n",
    "    for i in (insertSort(lists)):\n",
    "        print(i,end=',')  "
   ]
  }
 ],
 "metadata": {
  "kernelspec": {
   "display_name": "Python 3",
   "language": "python",
   "name": "python3"
  },
  "language_info": {
   "codemirror_mode": {
    "name": "ipython",
    "version": 3
   },
   "file_extension": ".py",
   "mimetype": "text/x-python",
   "name": "python",
   "nbconvert_exporter": "python",
   "pygments_lexer": "ipython3",
   "version": "3.5.5"
  }
 },
 "nbformat": 4,
 "nbformat_minor": 0
}
