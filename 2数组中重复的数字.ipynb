{
 "cells": [
  {
   "cell_type": "code",
   "execution_count": 47,
   "metadata": {
    "collapsed": false
   },
   "outputs": [
    {
     "name": "stdout",
     "output_type": "stream",
     "text": [
      "[[]]\n"
     ]
    }
   ],
   "source": [
    "def duplicate(numbers,duplication):\n",
    "        if numbers==None or numbers==[]:\n",
    "            return False\n",
    "        s=[]\n",
    "        for i in numbers:\n",
    "            if i in s:\n",
    "                duplication[0]=i\n",
    "                return True\n",
    "            s.append(i)\n",
    "            \n",
    "        return False\n",
    "    \n",
    "numbers=[0,2,1,3,2]\n",
    "duplication=[[]]\n",
    "print(duplicate(numbers,duplication))"
   ]
  },
  {
   "cell_type": "code",
   "execution_count": 54,
   "metadata": {
    "collapsed": false
   },
   "outputs": [
    {
     "name": "stdout",
     "output_type": "stream",
     "text": [
      "2\n",
      "1\n",
      "True\n"
     ]
    }
   ],
   "source": [
    "def duplicate(numbers, duplication):\n",
    "        # write code here\n",
    "         \n",
    "        for i in range(len(numbers)):\n",
    "            while numbers[i] != i:\n",
    "                print(numbers[i]) \n",
    "                if numbers[i] == numbers[numbers[i]]:\n",
    "                    duplication[0] = numbers[i]\n",
    "                    return True\n",
    "                else:\n",
    "                    t = numbers[i]\n",
    "                    numbers[i], numbers[t] = numbers[t], numbers[i]\n",
    "        return False\n",
    "numbers=[2,1,0,1,3]\n",
    "duplication=[[]]\n",
    "print(duplicate(numbers,duplication))\n",
    "            "
   ]
  },
  {
   "cell_type": "code",
   "execution_count": null,
   "metadata": {
    "collapsed": true
   },
   "outputs": [],
   "source": [
    "def duplicate(numbers, duplication):\n",
    "        for i in range(len(numbers)):\n",
    "            while numbers[i] != i:\n",
    "                print(numbers[i]) \n",
    "                if numbers[i] == numbers[numbers[i]]:\n",
    "                    duplication[0] = numbers[i]\n",
    "                    return True\n",
    "                else:\n",
    "                    t = numbers[i]\n",
    "                    numbers[i], numbers[t] = numbers[t], numbers[i]\n",
    "        return False\n",
    "numbers=[2,1,0,1,3]\n",
    "duplication=[[]]\n",
    "print(duplicate(numbers,duplication))\n",
    "            "
   ]
  },
  {
   "cell_type": "code",
   "execution_count": 71,
   "metadata": {
    "collapsed": false
   },
   "outputs": [
    {
     "name": "stdout",
     "output_type": "stream",
     "text": [
      "False\n"
     ]
    }
   ],
   "source": [
    "def duplicate(numbers, duplication):\n",
    "        for i in range(len(numbers)):\n",
    "            while numbers[i]!= i: \n",
    "                \n",
    "                if numbers[i] == numbers[numbers[i]]:\n",
    "                    duplication[0] = numbers[i]\n",
    "                    return True\n",
    "                else:\n",
    "                    t = numbers[i]\n",
    "                    numbers[i], numbers[t] = numbers[t], numbers[i]\n",
    "        return False\n",
    "    \n",
    "numbers=[2,1,0,4,3,5]\n",
    "duplication=[[]]\n",
    "print(duplicate(numbers,duplication))"
   ]
  },
  {
   "cell_type": "code",
   "execution_count": null,
   "metadata": {
    "collapsed": true
   },
   "outputs": [],
   "source": []
  },
  {
   "cell_type": "code",
   "execution_count": null,
   "metadata": {
    "collapsed": true
   },
   "outputs": [],
   "source": []
  },
  {
   "cell_type": "code",
   "execution_count": null,
   "metadata": {
    "collapsed": true
   },
   "outputs": [],
   "source": []
  },
  {
   "cell_type": "code",
   "execution_count": null,
   "metadata": {
    "collapsed": true
   },
   "outputs": [],
   "source": []
  },
  {
   "cell_type": "code",
   "execution_count": null,
   "metadata": {
    "collapsed": true
   },
   "outputs": [],
   "source": []
  },
  {
   "cell_type": "code",
   "execution_count": null,
   "metadata": {
    "collapsed": true
   },
   "outputs": [],
   "source": []
  }
 ],
 "metadata": {
  "kernelspec": {
   "display_name": "Python 3",
   "language": "python",
   "name": "python3"
  },
  "language_info": {
   "codemirror_mode": {
    "name": "ipython",
    "version": 3
   },
   "file_extension": ".py",
   "mimetype": "text/x-python",
   "name": "python",
   "nbconvert_exporter": "python",
   "pygments_lexer": "ipython3",
   "version": "3.5.5"
  }
 },
 "nbformat": 4,
 "nbformat_minor": 0
}
