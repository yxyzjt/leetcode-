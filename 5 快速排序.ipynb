{
 "cells": [
  {
   "cell_type": "markdown",
   "metadata": {},
   "source": [
    "快速排序的思想很简单：先设定一个基准值，把比基准值小的元素放在基准值左边，把比基准值大的元素放在基准值右边。"
   ]
  },
  {
   "cell_type": "markdown",
   "metadata": {},
   "source": [
    "以[6,1,2,7,9,3,4,5,10,8]为例：      \n",
    "先设定第一个元素6为基准值，在数组的首尾分别设置一个‘哨兵’，i和j。    \n",
    "首先，让j先向左移动，直到j碰到比基准值小的元素，停下来；   \n",
    "然后，让i向右移动，直到i碰到比基准值大的元素，停下来；交换i和j对应的元素。   \n",
    "然后，仍然是j先向左移动，重复上面的过程。   \n",
    "直到i和j相遇。然后把相遇位置的元素与基准值交换即可。"
   ]
  },
  {
   "cell_type": "code",
   "execution_count": null,
   "metadata": {
    "collapsed": true
   },
   "outputs": [],
   "source": []
  },
  {
   "cell_type": "code",
   "execution_count": 2,
   "metadata": {
    "collapsed": false
   },
   "outputs": [
    {
     "name": "stdout",
     "output_type": "stream",
     "text": [
      "[3, 7, 20, 52, 54, 312]\n"
     ]
    }
   ],
   "source": [
    "def quickSort(alist):\n",
    "    quickSortHelper(alist,0,len(alist)-1)\n",
    "def quickSortHelper(alist,first,last):\n",
    "    #基本结束条件\n",
    "    if first<last:\n",
    "        #分裂为两部分\n",
    "        splitpoint=partition(alist,first,last)\n",
    "        #递归调用\n",
    "        quickSortHelper(alist,first,splitpoint-1)\n",
    "        quickSortHelper(alist,splitpoint+1,last)\n",
    "def partition(alist,first,last):\n",
    "    #选定中值\n",
    "    mid=alist[first]\n",
    "    leftmark=first+1\n",
    "    rightmark=last\n",
    "    done=False\n",
    "    while not done:\n",
    "        while leftmark<=rightmark and alist[leftmark]<=mid:\n",
    "            leftmark=leftmark+1\n",
    "        while rightmark>=leftmark and alist[rightmark]>=mid:\n",
    "            rightmark-=1\n",
    "        #两标相错就结束移动\n",
    "        if rightmark<leftmark:  \n",
    "            done=True\n",
    "        #左右两标指向的值交换，继续移动\n",
    "        else:\n",
    "            alist[leftmark],alist[rightmark]=alist[rightmark],alist[leftmark]\n",
    "    alist[first],alist[rightmark]=alist[rightmark],alist[first]\n",
    "    return rightmark\n",
    "    \n",
    "alist=[52,312,54,7,3,20]\n",
    "quickSort(alist)\n",
    "print(alist)"
   ]
  }
 ],
 "metadata": {
  "kernelspec": {
   "display_name": "Python 3",
   "language": "python",
   "name": "python3"
  },
  "language_info": {
   "codemirror_mode": {
    "name": "ipython",
    "version": 3
   },
   "file_extension": ".py",
   "mimetype": "text/x-python",
   "name": "python",
   "nbconvert_exporter": "python",
   "pygments_lexer": "ipython3",
   "version": "3.5.5"
  }
 },
 "nbformat": 4,
 "nbformat_minor": 0
}
